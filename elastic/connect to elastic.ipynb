{
 "cells": [
  {
   "cell_type": "code",
   "execution_count": null,
   "id": "b5b09d3c",
   "metadata": {},
   "outputs": [
    {
     "name": "stdout",
     "output_type": "stream",
     "text": [
      " Connected to Elasticsearch!\n",
      "{'cluster_name': 'docker-cluster',\n",
      " 'cluster_uuid': 'YkeBIv4WSkuNojcRv-HDJQ',\n",
      " 'name': 'a15d97879705',\n",
      " 'tagline': 'You Know, for Search',\n",
      " 'version': {'build_date': '2025-06-18T22:09:56.772581489Z',\n",
      "             'build_flavor': 'default',\n",
      "             'build_hash': 'cc7302afc8499e83262ba2ceaa96451681f0609d',\n",
      "             'build_snapshot': False,\n",
      "             'build_type': 'docker',\n",
      "             'lucene_version': '10.1.0',\n",
      "             'minimum_index_compatibility_version': '8.0.0',\n",
      "             'minimum_wire_compatibility_version': '8.18.0',\n",
      "             'number': '9.0.3'}}\n"
     ]
    }
   ],
   "source": [
    "from pprint import pprint \n",
    "from elasticsearch import Elasticsearch \n",
    "es = Elasticsearch('http://localhost:9200',basic_auth=('user','password')) \n",
    "client_info = es.info() \n",
    "print(' Connected to Elasticsearch!') \n",
    "pprint(client_info.body) "
   ]
  },
  {
   "cell_type": "code",
   "execution_count": 21,
   "id": "e5a2ea06",
   "metadata": {},
   "outputs": [
    {
     "data": {
      "text/plain": [
       "ObjectApiResponse({'acknowledged': True, 'shards_acknowledged': True, 'index': 'transcription'})"
      ]
     },
     "execution_count": 21,
     "metadata": {},
     "output_type": "execute_result"
    }
   ],
   "source": [
    "es.indices.delete(index='transcription',ignore_unavailable=True)\n",
    "es.indices.create(\n",
    "    index=\"transcription\",\n",
    "    settings={\n",
    "        \"index\":{\n",
    "            \"number_of_shards\":3,\n",
    "            \"number_of_replicas\":2\n",
    "        }\n",
    "    },\n",
    ")"
   ]
  },
  {
   "cell_type": "code",
   "execution_count": 22,
   "id": "4f5f853b",
   "metadata": {},
   "outputs": [
    {
     "name": "stdout",
     "output_type": "stream",
     "text": [
      "Found 49 JSON files to process\n",
      "\n"
     ]
    },
    {
     "name": "stderr",
     "output_type": "stream",
     "text": [
      "                                                            "
     ]
    },
    {
     "name": "stdout",
     "output_type": "stream",
     "text": [
      "🎉 All files processed!\n"
     ]
    },
    {
     "name": "stderr",
     "output_type": "stream",
     "text": [
      "\r"
     ]
    }
   ],
   "source": [
    "import json\n",
    "import os\n",
    "from glob import glob\n",
    "from tqdm import tqdm\n",
    "def insert_docs(doc):\n",
    "    response=es.index(index='transcription',body=doc)\n",
    "    return response\n",
    "\n",
    "def print_info(res):\n",
    "    print(f\"\"\"\n",
    "Document Id: {res['_id']} is {res['result']} and is split into {res['_shards']['total']} shreds\n",
    "          \"\"\")\n",
    "    \n",
    "docs_ids=[]\n",
    "\n",
    "def process_transcription_file(file_path):\n",
    "    \"\"\"Process a single transcription file and insert all segments\"\"\"\n",
    "    try:\n",
    "        with open(file_path, 'r', encoding='utf-8') as f:\n",
    "            data = json.load(f)\n",
    "        \n",
    "        # print(f\"Processing file: {os.path.basename(file_path)}\")\n",
    "        \n",
    "        # Insert each segment as a separate document\n",
    "        for i, segment in enumerate(tqdm(data['segment'],desc=\"Segments\", leave=False)):\n",
    "            doc = {\n",
    "                'video_link': data['video_link'],\n",
    "                'segment_index': i,\n",
    "                'start': segment['start'],\n",
    "                'end': segment['end'],\n",
    "                'text': segment['text']\n",
    "            }\n",
    "            \n",
    "            res = insert_docs(doc)\n",
    "            docs_ids.append(res['_id'])\n",
    "        \n",
    "        \n",
    "    except Exception as e:\n",
    "        print(f\"❌ Error processing {file_path}: {e}\\n\")\n",
    "\n",
    "# Method 1: Process all JSON files in a directory\n",
    "transcription_dir = \"../transcriptions_1445h_v3 - Copy\"\n",
    "json_files = glob(os.path.join(transcription_dir, \"*.json\"))\n",
    "\n",
    "print(f\"Found {len(json_files)} JSON files to process\\n\")\n",
    "\n",
    "for file_path in json_files:\n",
    "    process_transcription_file(file_path)\n",
    "\n",
    "print(\"🎉 All files processed!\")"
   ]
  },
  {
   "cell_type": "code",
   "execution_count": 10,
   "id": "43af5836",
   "metadata": {},
   "outputs": [
    {
     "name": "stdout",
     "output_type": "stream",
     "text": [
      "{'end': {'type': 'float'},\n",
      " 'segment_index': {'type': 'long'},\n",
      " 'start': {'type': 'float'},\n",
      " 'text': {'fields': {'keyword': {'ignore_above': 256, 'type': 'keyword'}},\n",
      "          'type': 'text'},\n",
      " 'video_link': {'fields': {'keyword': {'ignore_above': 256, 'type': 'keyword'}},\n",
      "                'type': 'text'}}\n"
     ]
    }
   ],
   "source": [
    "#this is to show the datatypes of \n",
    "from pprint import pprint\n",
    "index_mapping=es.indices.get_mapping(index='transcription')\n",
    "pprint(index_mapping[\"transcription\"][\"mappings\"][\"properties\"])"
   ]
  },
  {
   "cell_type": "code",
   "execution_count": 23,
   "id": "b6dfcb45",
   "metadata": {},
   "outputs": [
    {
     "data": {
      "text/plain": [
       "ObjectApiResponse({'count': 7250, '_shards': {'total': 3, 'successful': 3, 'skipped': 0, 'failed': 0}})"
      ]
     },
     "execution_count": 23,
     "metadata": {},
     "output_type": "execute_result"
    }
   ],
   "source": [
    "# count documents\n",
    "es.count(index='transcription')"
   ]
  },
  {
   "cell_type": "code",
   "execution_count": null,
   "id": "fd0dabdd",
   "metadata": {},
   "outputs": [
    {
     "data": {
      "text/plain": [
       "ObjectApiResponse({'_index': 'transcription', '_id': '3tjeZ5kB4dmQKG5PqRxM', '_version': 1, '_seq_no': 2341, '_primary_term': 1, 'found': True, '_source': {'video_link': '0T28iTJFhxw', 'segment_index': 0, 'start': 0.0, 'end': 21.14, 'text': 'بسم الله الرحمن الرحيم الحمد لله والصلاة والسلام على رسول الله وعلى آله وصحبه ومن ولاه السلام عليكم جميعا ورحمة الله وبركاته وأهلا ومرحبا بكم في حلقة أخرى من هذا البرنامج وهذه الحلقات التي خصصناها للغة الإشارة لهذه الفئة الراقية كما تحدثنا بالأمس'}})"
      ]
     },
     "execution_count": 12,
     "metadata": {},
     "output_type": "execute_result"
    }
   ],
   "source": [
    "#get a document\n",
    "es.get(index='transcription',id=docs_ids[0])"
   ]
  },
  {
   "cell_type": "code",
   "execution_count": 26,
   "id": "79a1ab0c",
   "metadata": {},
   "outputs": [
    {
     "data": {
      "text/plain": [
       "ObjectApiResponse({'count': 16, '_shards': {'total': 3, 'successful': 3, 'skipped': 0, 'failed': 0}})"
      ]
     },
     "execution_count": 26,
     "metadata": {},
     "output_type": "execute_result"
    }
   ],
   "source": [
    "# get doucment with query\n",
    "query={\n",
    "    \"match\":{\n",
    "        \"text\":\"مرض\"\n",
    "    }\n",
    "}\n",
    "\n",
    "es.count(index='transcription',query=query)"
   ]
  },
  {
   "cell_type": "code",
   "execution_count": 29,
   "id": "a5e95f71",
   "metadata": {},
   "outputs": [
    {
     "name": "stdout",
     "output_type": "stream",
     "text": [
      "Video: SGoFOmp2CYo\n",
      "Time: 1781.66 - 1800.66\n",
      "Text: من رحمة الله تبارك و تعالى فعلى من وقع في هذا الفعل إن وجدت ريبة لتفشي مرض في مجتمع من المجتمعات مرض نقص المناعة أو الإصابة بشيء من الأمراض الجنسية\n",
      "--------------------------------------------------\n",
      "Video: b8FezHrM5p8\n",
      "Time: 2490.8 - 2506.38\n",
      "Text: نعم و هذا يعني مرض نعم هو مرض قد يرجع إلى خلل جيني أو إلى أي سبب آخر و المرض يعالج نعم لكن الذي يتحدث عنه العالم اليوم هذا العالم كما قلت\n",
      "--------------------------------------------------\n",
      "Video: f0cKI3WBXpE\n",
      "Time: 2497.14 - 2512.78\n",
      "Text: ما كان بسبب علة هل كان ذلك بسبب مرض أصابه أو قرح في أسفل الركبة أو بسبب مرض آخر أو بسبب الموضع و طبيعة الأرض\n",
      "--------------------------------------------------\n",
      "Video: 0T28iTJFhxw\n",
      "Time: 1927.08 - 1945.5\n",
      "Text: قال فلا تخضعن بالقول فيطمع الذي في قلبه مرض وقلن قولا معروفا فطريقة الحديث لا بد أن لا يكون فيها خضوع وخناء ثم الحديث نفسه أن يكون من القول المعروف\n",
      "--------------------------------------------------\n",
      "Video: 6U1P6dnCjXA\n",
      "Time: 417.56 - 432.7\n",
      "Text: لغير ذوي الأعذار فقد جمع رسول الله صلى الله عليه و آله و سلم بين الظهر و العصر و المغرب و العشاء في غير سفر و لا مرض و لا مطر و لا ريح و هذا يدل أنه\n",
      "--------------------------------------------------\n",
      "Video: WRTjOg8-B18\n",
      "Time: 636.28 - 651.56\n",
      "Text: لا التمكن ما تمكنت بسبب أنه يكنت أخذ مرض مزمن مزمن يوم والله إن شاء الله طيب بارك الله خيك الأخوة وليد شفاك الله وعفاك الأخ سليمان الحسني السلام عليكم ورحمة الله وبركاته وعليكم السلام أحب بلعبك أهل سليمان\n",
      "--------------------------------------------------\n",
      "Video: eUS0e-7tSHA\n",
      "Time: 2034.04 - 2053.32\n",
      "Text: لكنهم حملوا هذه الكراهة على أن لا يوجد لها سبب يدعو إليها فأما إذا وجد سبب من وباء أو مرض أو أي علة أخرى معتبرة شرعا\n",
      "--------------------------------------------------\n",
      "Video: SGoFOmp2CYo\n",
      "Time: 1734.4 - 1749.52\n",
      "Text: ثم بعد ذلك يتعامل مع الحال بحسب ما يظهر من نتائج هذا الفحص على أنه ليس شرطا أن تكون الإصابة بعدوى مرض نقص المناعة على سبيل المثال\n",
      "--------------------------------------------------\n",
      "Video: 1uYhaToIZiM\n",
      "Time: 235.56 - 254.66\n",
      "Text: الذي هو مناط التكليف فلا شيء عليه ولا على أوليائه ومعلوم أن الإغماء مختلف فيه هل هو مرض؟ هل يعامل معاملة المرض؟ وعلى هذا فإنه عندما يستيقظ ويستطيع الصيام\n",
      "--------------------------------------------------\n",
      "Video: 6U1P6dnCjXA\n",
      "Time: 449.62 - 468.18\n",
      "Text: أنه إذا أراد أن ينشئ سفرا أو بدون عذر لا من مرض أو سفر أو مطر أو ريح أو غير ذلك أن يعمد إلى أن يجمع الصلاتين فهذا مذموم في حق المكلف نعم فنعم إن وجد هناك ما يدعوه إلى ذلك\n",
      "--------------------------------------------------\n"
     ]
    }
   ],
   "source": [
    "# serch doucment with match word\n",
    "query={\n",
    "    \"match\":{\n",
    "        \"text\":\"مرض\"\n",
    "    }\n",
    "}\n",
    "\n",
    "# Execute search and get results\n",
    "response = es.search(index='transcription', query=query, size=10)\n",
    "# Print results\n",
    "for hit in response['hits']['hits']:\n",
    "    print(f\"Video: {hit['_source']['video_link']}\")\n",
    "    print(f\"Time: {hit['_source']['start']} - {hit['_source']['end']}\")\n",
    "    print(f\"Text: {hit['_source']['text']}\")\n",
    "    print(\"-\" * 50)"
   ]
  },
  {
   "cell_type": "code",
   "execution_count": 30,
   "id": "0663bb15",
   "metadata": {},
   "outputs": [
    {
     "name": "stdout",
     "output_type": "stream",
     "text": [
      "Result 1:\n",
      "Video: SGoFOmp2CYo\n",
      "YouTube Link with Time: SGoFOmp2CYo&t=1781s\n",
      "Time: 1781.66 - 1800.66\n",
      "Text: من رحمة الله تبارك و تعالى فعلى من وقع في هذا الفعل إن وجدت ريبة لتفشي مرض في مجتمع من المجتمعات مرض نقص المناعة أو الإصابة بشيء من الأمراض الجنسية\n",
      "--------------------------------------------------\n",
      "Result 2:\n",
      "Video: b8FezHrM5p8\n",
      "YouTube Link with Time: b8FezHrM5p8&t=2490s\n",
      "Time: 2490.8 - 2506.38\n",
      "Text: نعم و هذا يعني مرض نعم هو مرض قد يرجع إلى خلل جيني أو إلى أي سبب آخر و المرض يعالج نعم لكن الذي يتحدث عنه العالم اليوم هذا العالم كما قلت\n",
      "--------------------------------------------------\n",
      "Result 3:\n",
      "Video: f0cKI3WBXpE\n",
      "YouTube Link with Time: f0cKI3WBXpE&t=2497s\n",
      "Time: 2497.14 - 2512.78\n",
      "Text: ما كان بسبب علة هل كان ذلك بسبب مرض أصابه أو قرح في أسفل الركبة أو بسبب مرض آخر أو بسبب الموضع و طبيعة الأرض\n",
      "--------------------------------------------------\n",
      "Result 4:\n",
      "Video: 0T28iTJFhxw\n",
      "YouTube Link with Time: 0T28iTJFhxw&t=1927s\n",
      "Time: 1927.08 - 1945.5\n",
      "Text: قال فلا تخضعن بالقول فيطمع الذي في قلبه مرض وقلن قولا معروفا فطريقة الحديث لا بد أن لا يكون فيها خضوع وخناء ثم الحديث نفسه أن يكون من القول المعروف\n",
      "--------------------------------------------------\n",
      "Result 5:\n",
      "Video: 6U1P6dnCjXA\n",
      "YouTube Link with Time: 6U1P6dnCjXA&t=417s\n",
      "Time: 417.56 - 432.7\n",
      "Text: لغير ذوي الأعذار فقد جمع رسول الله صلى الله عليه و آله و سلم بين الظهر و العصر و المغرب و العشاء في غير سفر و لا مرض و لا مطر و لا ريح و هذا يدل أنه\n",
      "--------------------------------------------------\n",
      "Result 6:\n",
      "Video: WRTjOg8-B18\n",
      "YouTube Link with Time: WRTjOg8-B18&t=636s\n",
      "Time: 636.28 - 651.56\n",
      "Text: لا التمكن ما تمكنت بسبب أنه يكنت أخذ مرض مزمن مزمن يوم والله إن شاء الله طيب بارك الله خيك الأخوة وليد شفاك الله وعفاك الأخ سليمان الحسني السلام عليكم ورحمة الله وبركاته وعليكم السلام أحب بلعبك أهل سليمان\n",
      "--------------------------------------------------\n",
      "Result 7:\n",
      "Video: eUS0e-7tSHA\n",
      "YouTube Link with Time: eUS0e-7tSHA&t=2034s\n",
      "Time: 2034.04 - 2053.32\n",
      "Text: لكنهم حملوا هذه الكراهة على أن لا يوجد لها سبب يدعو إليها فأما إذا وجد سبب من وباء أو مرض أو أي علة أخرى معتبرة شرعا\n",
      "--------------------------------------------------\n",
      "Result 8:\n",
      "Video: SGoFOmp2CYo\n",
      "YouTube Link with Time: SGoFOmp2CYo&t=1734s\n",
      "Time: 1734.4 - 1749.52\n",
      "Text: ثم بعد ذلك يتعامل مع الحال بحسب ما يظهر من نتائج هذا الفحص على أنه ليس شرطا أن تكون الإصابة بعدوى مرض نقص المناعة على سبيل المثال\n",
      "--------------------------------------------------\n",
      "Result 9:\n",
      "Video: 1uYhaToIZiM\n",
      "YouTube Link with Time: 1uYhaToIZiM&t=235s\n",
      "Time: 235.56 - 254.66\n",
      "Text: الذي هو مناط التكليف فلا شيء عليه ولا على أوليائه ومعلوم أن الإغماء مختلف فيه هل هو مرض؟ هل يعامل معاملة المرض؟ وعلى هذا فإنه عندما يستيقظ ويستطيع الصيام\n",
      "--------------------------------------------------\n",
      "Result 10:\n",
      "Video: 6U1P6dnCjXA\n",
      "YouTube Link with Time: 6U1P6dnCjXA&t=449s\n",
      "Time: 449.62 - 468.18\n",
      "Text: أنه إذا أراد أن ينشئ سفرا أو بدون عذر لا من مرض أو سفر أو مطر أو ريح أو غير ذلك أن يعمد إلى أن يجمع الصلاتين فهذا مذموم في حق المكلف نعم فنعم إن وجد هناك ما يدعوه إلى ذلك\n",
      "--------------------------------------------------\n",
      "\n",
      "🎯 First Result with Timestamp:\n",
      "Link: https://www.youtube.com/watch?v=SGoFOmp2CYo&t=1781s\n"
     ]
    }
   ],
   "source": [
    "# search document with match word\n",
    "query={\n",
    "    \"match\":{\n",
    "        \"text\":\"مرض\"\n",
    "    }\n",
    "}\n",
    "\n",
    "# Execute search and get results\n",
    "response = es.search(index='transcription', query=query, size=10)\n",
    "\n",
    "# Print results\n",
    "for i, hit in enumerate(response['hits']['hits']):\n",
    "    video_link = hit['_source']['video_link']\n",
    "    start_time = hit['_source']['start']\n",
    "    \n",
    "    # Create YouTube link with timestamp\n",
    "    if 'youtube.com/watch?v=' in video_link or 'youtu.be/' in video_link:\n",
    "        # Extract video ID\n",
    "        if 'youtube.com/watch?v=' in video_link:\n",
    "            video_id = video_link.split('v=')[1].split('&')[0]\n",
    "        else:  # youtu.be format\n",
    "            video_id = video_link.split('youtu.be/')[-1].split('?')[0]\n",
    "        \n",
    "        # Create timestamped YouTube link\n",
    "        youtube_link_with_time = f\"https://www.youtube.com/watch?v={video_id}&t={int(start_time)}s\"\n",
    "    else:\n",
    "        youtube_link_with_time = f\"{video_link}&t={int(start_time)}s\"\n",
    "    \n",
    "    print(f\"Result {i+1}:\")\n",
    "    print(f\"Video: {video_link}\")\n",
    "    print(f\"YouTube Link with Time: {youtube_link_with_time}\")\n",
    "    print(f\"Time: {hit['_source']['start']} - {hit['_source']['end']}\")\n",
    "    print(f\"Text: {hit['_source']['text']}\")\n",
    "    print(\"-\" * 50)\n",
    "\n",
    "# If you want just the first result with timestamp:\n",
    "if response['hits']['hits']:\n",
    "    first_hit = response['hits']['hits'][0]\n",
    "    video_link = first_hit['_source']['video_link']\n",
    "    start_time = int(first_hit['_source']['start'])\n",
    "    \n",
    "    # Extract video ID and create timestamped link\n",
    "    if 'youtube.com/watch?v=' in video_link:\n",
    "        video_id = video_link.split('v=')[1].split('&')[0]\n",
    "    elif 'youtu.be/' in video_link:\n",
    "        video_id = video_link.split('youtu.be/')[-1].split('?')[0]\n",
    "    else:\n",
    "        video_id = video_link  # Assume it's already a video ID\n",
    "    \n",
    "    timestamped_link = f\"https://www.youtube.com/watch?v={video_id}&t={start_time}s\"\n",
    "    \n",
    "    print(f\"\\n🎯 First Result with Timestamp:\")\n",
    "    print(f\"Link: {timestamped_link}\")"
   ]
  }
 ],
 "metadata": {
  "kernelspec": {
   "display_name": "elastic",
   "language": "python",
   "name": "python3"
  },
  "language_info": {
   "codemirror_mode": {
    "name": "ipython",
    "version": 3
   },
   "file_extension": ".py",
   "mimetype": "text/x-python",
   "name": "python",
   "nbconvert_exporter": "python",
   "pygments_lexer": "ipython3",
   "version": "3.11.13"
  }
 },
 "nbformat": 4,
 "nbformat_minor": 5
}
