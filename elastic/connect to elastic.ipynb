{
 "cells": [
  {
   "cell_type": "code",
   "execution_count": 1,
   "id": "b5b09d3c",
   "metadata": {},
   "outputs": [
    {
     "name": "stdout",
     "output_type": "stream",
     "text": [
      " Connected to Elasticsearch!\n",
      "{'cluster_name': 'docker-cluster',\n",
      " 'cluster_uuid': 'YkeBIv4WSkuNojcRv-HDJQ',\n",
      " 'name': 'a15d97879705',\n",
      " 'tagline': 'You Know, for Search',\n",
      " 'version': {'build_date': '2025-06-18T22:09:56.772581489Z',\n",
      "             'build_flavor': 'default',\n",
      "             'build_hash': 'cc7302afc8499e83262ba2ceaa96451681f0609d',\n",
      "             'build_snapshot': False,\n",
      "             'build_type': 'docker',\n",
      "             'lucene_version': '10.1.0',\n",
      "             'minimum_index_compatibility_version': '8.0.0',\n",
      "             'minimum_wire_compatibility_version': '8.18.0',\n",
      "             'number': '9.0.3'}}\n"
     ]
    }
   ],
   "source": [
    "from pprint import pprint \n",
    "from elasticsearch import Elasticsearch \n",
    "es = Elasticsearch('http://localhost:9200',basic_auth=('elastic','Fe1odvmZ')) \n",
    "client_info = es.info() \n",
    "print(' Connected to Elasticsearch!') \n",
    "pprint(client_info.body) "
   ]
  },
  {
   "cell_type": "code",
   "execution_count": 5,
   "id": "e5a2ea06",
   "metadata": {},
   "outputs": [
    {
     "data": {
      "text/plain": [
       "ObjectApiResponse({'acknowledged': True, 'shards_acknowledged': True, 'index': 'transcription'})"
      ]
     },
     "execution_count": 5,
     "metadata": {},
     "output_type": "execute_result"
    }
   ],
   "source": [
    "es.indices.delete(index='transcription',ignore_unavailable=True)\n",
    "es.indices.create(\n",
    "    index=\"transcription\",\n",
    "    settings={\n",
    "        \"index\":{\n",
    "            \"number_of_shards\":3,\n",
    "            \"number_of_replicas\":2\n",
    "        }\n",
    "    },\n",
    ")"
   ]
  },
  {
   "cell_type": "code",
   "execution_count": null,
   "id": "4f5f853b",
   "metadata": {},
   "outputs": [
    {
     "name": "stdout",
     "output_type": "stream",
     "text": [
      "Found 49 JSON files to process\n",
      "\n"
     ]
    },
    {
     "name": "stderr",
     "output_type": "stream",
     "text": [
      "                                                            "
     ]
    },
    {
     "name": "stdout",
     "output_type": "stream",
     "text": [
      "🎉 All files processed!\n"
     ]
    },
    {
     "name": "stderr",
     "output_type": "stream",
     "text": [
      "\r"
     ]
    }
   ],
   "source": [
    "import json\n",
    "import os\n",
    "from glob import glob\n",
    "from tqdm import tqdm\n",
    "def insert_docs(doc):\n",
    "    response=es.index(index='transcription',body=doc)\n",
    "    return response\n",
    "\n",
    "def print_info(res):\n",
    "    print(f\"\"\"\n",
    "Document Id: {res['_id']} is {res['result']} and is split into {res['_shards']['total']} shreds\n",
    "          \"\"\")\n",
    "    \n",
    "docs_ids=[]\n",
    "\n",
    "def process_transcription_file(file_path):\n",
    "    \"\"\"Process a single transcription file and insert all segments\"\"\"\n",
    "    try:\n",
    "        with open(file_path, 'r', encoding='utf-8') as f:\n",
    "            data = json.load(f)\n",
    "        \n",
    "        # print(f\"Processing file: {os.path.basename(file_path)}\")\n",
    "        \n",
    "        # Insert each segment as a separate document\n",
    "        for i, segment in enumerate(tqdm(data['segment'],desc=\"Segments\", leave=False)):\n",
    "            doc = {\n",
    "                'video_link': data['video_link'],\n",
    "                'segment_index': i,\n",
    "                'start': segment['start'],\n",
    "                'end': segment['end'],\n",
    "                'text': segment['text']\n",
    "            }\n",
    "            \n",
    "            res = insert_docs(doc)\n",
    "            docs_ids.append(res['_id'])\n",
    "        \n",
    "        \n",
    "    except Exception as e:\n",
    "        print(f\"❌ Error processing {file_path}: {e}\\n\")\n",
    "\n",
    "# Method 1: Process all JSON files in a directory\n",
    "transcription_dir = \"../transcriptions_1445h_v3 - Copy\"\n",
    "json_files = glob(os.path.join(transcription_dir, \"*.json\"))\n",
    "\n",
    "print(f\"Found {len(json_files)} JSON files to process\\n\")\n",
    "\n",
    "for file_path in json_files:\n",
    "    process_transcription_file(file_path)\n",
    "\n",
    "print(\"🎉 All files processed!\")"
   ]
  },
  {
   "cell_type": "code",
   "execution_count": 2,
   "id": "43af5836",
   "metadata": {},
   "outputs": [
    {
     "name": "stdout",
     "output_type": "stream",
     "text": [
      "{'end': {'type': 'float'},\n",
      " 'segment_index': {'type': 'long'},\n",
      " 'start': {'type': 'float'},\n",
      " 'text': {'fields': {'keyword': {'ignore_above': 256, 'type': 'keyword'}},\n",
      "          'type': 'text'},\n",
      " 'video_link': {'fields': {'keyword': {'ignore_above': 256, 'type': 'keyword'}},\n",
      "                'type': 'text'}}\n"
     ]
    }
   ],
   "source": [
    "#this is to show the datatypes of \n",
    "from pprint import pprint\n",
    "index_mapping=es.indices.get_mapping(index='transcription')\n",
    "pprint(index_mapping[\"transcription\"][\"mappings\"][\"properties\"])"
   ]
  },
  {
   "cell_type": "code",
   "execution_count": 3,
   "id": "b6dfcb45",
   "metadata": {},
   "outputs": [
    {
     "data": {
      "text/plain": [
       "ObjectApiResponse({'count': 7250, '_shards': {'total': 3, 'successful': 3, 'skipped': 0, 'failed': 0}})"
      ]
     },
     "execution_count": 3,
     "metadata": {},
     "output_type": "execute_result"
    }
   ],
   "source": [
    "# count documents\n",
    "es.count(index='transcription')"
   ]
  },
  {
   "cell_type": "code",
   "execution_count": null,
   "id": "fd0dabdd",
   "metadata": {},
   "outputs": [
    {
     "data": {
      "text/plain": [
       "ObjectApiResponse({'_index': 'transcription', '_id': '3tjeZ5kB4dmQKG5PqRxM', '_version': 1, '_seq_no': 2341, '_primary_term': 1, 'found': True, '_source': {'video_link': '0T28iTJFhxw', 'segment_index': 0, 'start': 0.0, 'end': 21.14, 'text': 'بسم الله الرحمن الرحيم الحمد لله والصلاة والسلام على رسول الله وعلى آله وصحبه ومن ولاه السلام عليكم جميعا ورحمة الله وبركاته وأهلا ومرحبا بكم في حلقة أخرى من هذا البرنامج وهذه الحلقات التي خصصناها للغة الإشارة لهذه الفئة الراقية كما تحدثنا بالأمس'}})"
      ]
     },
     "execution_count": 12,
     "metadata": {},
     "output_type": "execute_result"
    }
   ],
   "source": [
    "#get a document\n",
    "es.get(index='transcription',id=docs_ids[0])"
   ]
  },
  {
   "cell_type": "code",
   "execution_count": 3,
   "id": "79a1ab0c",
   "metadata": {},
   "outputs": [
    {
     "data": {
      "text/plain": [
       "ObjectApiResponse({'count': 16, '_shards': {'total': 3, 'successful': 3, 'skipped': 0, 'failed': 0}})"
      ]
     },
     "execution_count": 3,
     "metadata": {},
     "output_type": "execute_result"
    }
   ],
   "source": [
    "# get doucment with query\n",
    "query={\n",
    "    \"match\":{\n",
    "        \"text\":\"مرض\"\n",
    "    }\n",
    "}\n",
    "\n",
    "es.count(index='transcription',query=query)"
   ]
  },
  {
   "cell_type": "code",
   "execution_count": 4,
   "id": "a5e95f71",
   "metadata": {},
   "outputs": [
    {
     "name": "stdout",
     "output_type": "stream",
     "text": [
      "Video: pSrHxXY44AI\n",
      "Time: 499.24 - 514.48\n",
      "Text: سؤالين دكتور شخص تحرك من وطني بعد أذان الظهر ولم يكن ينوي السفر وقطع مسافة السفر فأخر صلاة الظهر مع العصر أي جمع تأخير\n",
      "--------------------------------------------------\n",
      "Video: WRTjOg8-B18\n",
      "Time: 2381.58 - 2399.08\n",
      "Text: فالصاحب السفر إنما هو لأجل السفر نعم طال هذا السفر أو قصر طالت يعني مدة المكث أو لم تطل نعم فهو اقتران و معية في أمر السفر نعم بهذا نفهم أن الله تبارك و تعالى نفى عن نفسه الصاحبة\n",
      "--------------------------------------------------\n",
      "Video: eUS0e-7tSHA\n",
      "Time: 1857.16 - 1874.18\n",
      "Text: لم نصلي التراويح لأننا سنصليها عند الرجوع و رجعنا في نفس اليوم و نسيت أن أصلي التراويح فماذا علي و ما حكم صلاة التراويح عند السفر نعم لا شيء عليهم و إن كان قد فاتهم فضل كبير\n",
      "--------------------------------------------------\n",
      "Video: x3jkF1y8hH4\n",
      "Time: 1101.26 - 1120.26\n",
      "Text: فأدنا وأقيمه ولي أمكما أفضلكما وهما اثنان فقط إذن فأجر الصلاة في جماعة في الفلاة حتى لا يدخل في النفوس وحشة من ترك صلاة الجماعة في المساجد بسبب السفر أو أن يدفع ذلك المسافر إلى أن يتكلف\n",
      "--------------------------------------------------\n",
      "Video: 0T28iTJFhxw\n",
      "Time: 1183.02 - 1199.66\n",
      "Text: السفر الأصل فيها أنها السفر ولكن من تتبع ما كان عليه هدي رسول الله صلى الله عليه وآله وسلم وأصحابه الكرام فإن يعني كان أسافر أصحاب رسول الله صلى الله عليه وسلم فقالوا فمن المفطر ومن الصائم\n",
      "--------------------------------------------------\n",
      "Video: 1uYhaToIZiM\n",
      "Time: 2251.94 - 2269.54\n",
      "Text: و مع ذلك فقد قلت أو أقول اليوم بأن بعض الفقهاء المعاصرين رأوا بأن هذا الحكم نعم معلق و هم التفتوا إلى موضوع الإقامة دون السفر يعني المكت في المكان أما السفر نفسه أما السفر نفسه فإنهم يقولون بلزوم محرم فيه\n",
      "--------------------------------------------------\n",
      "Video: Qk_RoVPaEfM\n",
      "Time: 1930.72 - 1946.02\n",
      "Text: الناس تصلي صلاة الغائب بعد صلاة الجمعة له سؤال يقول في هذه الأيام لخ ناصر الكابري في هذه الأيام يتم بعد صلاة الجمعة مباشرة أداء صلاة الغائب بعض المصلين المسافرين يؤدون صلاة الجمعة و بعدها صلاة الغائب\n",
      "--------------------------------------------------\n",
      "Video: pSrHxXY44AI\n",
      "Time: 1762.9 - 1778.56\n",
      "Text: والله تعالى أعلم سيف العوف يقول إذا كان الإنسان في وطنه أذن عليه أذان الظهر خرج مسافراً و جمع في سفره الظهر والعصر نعم هو ذكر بأنه جاوز حد السفر نعم كان لا يقصد السفر\n",
      "--------------------------------------------------\n",
      "Video: eUS0e-7tSHA\n",
      "Time: 1661.32 - 1679.0\n",
      "Text: فقيل بأن أفضل الأوقات هو ما بين صلاة الفجر إلى صلاة العيد و يليه في الرتبة من بعد ثبوت هلال شوال أي ليلة العيد لا سيما إذا كان الوقت من بعد صلاة الفجر إلى صلاة العيد\n",
      "--------------------------------------------------\n",
      "Video: 0T28iTJFhxw\n",
      "Time: 1167.36 - 1183.02\n",
      "Text: فلا يمكن أن يمنع من هذا وإذا تيسر له أن يصوم فحسن إن لم يتيسر فالرخصة موجودة والله تعالى يتولى السرائر والله تعالى أعلم علة الفطر في السفر يعني هي مرتبطة بالمشاق هي المشقاة من السفر\n",
      "--------------------------------------------------\n"
     ]
    }
   ],
   "source": [
    "# serch doucment with match word\n",
    "query={\n",
    "    \"match\":{\n",
    "        \"text\":\"صلاة السفر\"\n",
    "    }\n",
    "}\n",
    "\n",
    "# Execute search and get results\n",
    "response = es.search(index='transcription', query=query, size=10)\n",
    "# Print results\n",
    "for hit in response['hits']['hits']:\n",
    "    print(f\"Video: {hit['_source']['video_link']}\")\n",
    "    print(f\"Time: {hit['_source']['start']} - {hit['_source']['end']}\")\n",
    "    print(f\"Text: {hit['_source']['text']}\")\n",
    "    print(\"-\" * 50)"
   ]
  },
  {
   "cell_type": "code",
   "execution_count": 6,
   "id": "0663bb15",
   "metadata": {},
   "outputs": [
    {
     "name": "stdout",
     "output_type": "stream",
     "text": [
      "Result 1:\n",
      "Video: pSrHxXY44AI\n",
      "YouTube Link with Time: pSrHxXY44AI&t=499s\n",
      "Time: 499.24 - 514.48\n",
      "Text: سؤالين دكتور شخص تحرك من وطني بعد أذان الظهر ولم يكن ينوي السفر وقطع مسافة السفر فأخر صلاة الظهر مع العصر أي جمع تأخير\n",
      "--------------------------------------------------\n",
      "Result 2:\n",
      "Video: WRTjOg8-B18\n",
      "YouTube Link with Time: WRTjOg8-B18&t=2381s\n",
      "Time: 2381.58 - 2399.08\n",
      "Text: فالصاحب السفر إنما هو لأجل السفر نعم طال هذا السفر أو قصر طالت يعني مدة المكث أو لم تطل نعم فهو اقتران و معية في أمر السفر نعم بهذا نفهم أن الله تبارك و تعالى نفى عن نفسه الصاحبة\n",
      "--------------------------------------------------\n",
      "Result 3:\n",
      "Video: eUS0e-7tSHA\n",
      "YouTube Link with Time: eUS0e-7tSHA&t=1857s\n",
      "Time: 1857.16 - 1874.18\n",
      "Text: لم نصلي التراويح لأننا سنصليها عند الرجوع و رجعنا في نفس اليوم و نسيت أن أصلي التراويح فماذا علي و ما حكم صلاة التراويح عند السفر نعم لا شيء عليهم و إن كان قد فاتهم فضل كبير\n",
      "--------------------------------------------------\n",
      "Result 4:\n",
      "Video: x3jkF1y8hH4\n",
      "YouTube Link with Time: x3jkF1y8hH4&t=1101s\n",
      "Time: 1101.26 - 1120.26\n",
      "Text: فأدنا وأقيمه ولي أمكما أفضلكما وهما اثنان فقط إذن فأجر الصلاة في جماعة في الفلاة حتى لا يدخل في النفوس وحشة من ترك صلاة الجماعة في المساجد بسبب السفر أو أن يدفع ذلك المسافر إلى أن يتكلف\n",
      "--------------------------------------------------\n",
      "Result 5:\n",
      "Video: 0T28iTJFhxw\n",
      "YouTube Link with Time: 0T28iTJFhxw&t=1183s\n",
      "Time: 1183.02 - 1199.66\n",
      "Text: السفر الأصل فيها أنها السفر ولكن من تتبع ما كان عليه هدي رسول الله صلى الله عليه وآله وسلم وأصحابه الكرام فإن يعني كان أسافر أصحاب رسول الله صلى الله عليه وسلم فقالوا فمن المفطر ومن الصائم\n",
      "--------------------------------------------------\n",
      "Result 6:\n",
      "Video: 1uYhaToIZiM\n",
      "YouTube Link with Time: 1uYhaToIZiM&t=2251s\n",
      "Time: 2251.94 - 2269.54\n",
      "Text: و مع ذلك فقد قلت أو أقول اليوم بأن بعض الفقهاء المعاصرين رأوا بأن هذا الحكم نعم معلق و هم التفتوا إلى موضوع الإقامة دون السفر يعني المكت في المكان أما السفر نفسه أما السفر نفسه فإنهم يقولون بلزوم محرم فيه\n",
      "--------------------------------------------------\n",
      "Result 7:\n",
      "Video: Qk_RoVPaEfM\n",
      "YouTube Link with Time: Qk_RoVPaEfM&t=1930s\n",
      "Time: 1930.72 - 1946.02\n",
      "Text: الناس تصلي صلاة الغائب بعد صلاة الجمعة له سؤال يقول في هذه الأيام لخ ناصر الكابري في هذه الأيام يتم بعد صلاة الجمعة مباشرة أداء صلاة الغائب بعض المصلين المسافرين يؤدون صلاة الجمعة و بعدها صلاة الغائب\n",
      "--------------------------------------------------\n",
      "Result 8:\n",
      "Video: pSrHxXY44AI\n",
      "YouTube Link with Time: pSrHxXY44AI&t=1762s\n",
      "Time: 1762.9 - 1778.56\n",
      "Text: والله تعالى أعلم سيف العوف يقول إذا كان الإنسان في وطنه أذن عليه أذان الظهر خرج مسافراً و جمع في سفره الظهر والعصر نعم هو ذكر بأنه جاوز حد السفر نعم كان لا يقصد السفر\n",
      "--------------------------------------------------\n",
      "Result 9:\n",
      "Video: eUS0e-7tSHA\n",
      "YouTube Link with Time: eUS0e-7tSHA&t=1661s\n",
      "Time: 1661.32 - 1679.0\n",
      "Text: فقيل بأن أفضل الأوقات هو ما بين صلاة الفجر إلى صلاة العيد و يليه في الرتبة من بعد ثبوت هلال شوال أي ليلة العيد لا سيما إذا كان الوقت من بعد صلاة الفجر إلى صلاة العيد\n",
      "--------------------------------------------------\n",
      "Result 10:\n",
      "Video: 0T28iTJFhxw\n",
      "YouTube Link with Time: 0T28iTJFhxw&t=1167s\n",
      "Time: 1167.36 - 1183.02\n",
      "Text: فلا يمكن أن يمنع من هذا وإذا تيسر له أن يصوم فحسن إن لم يتيسر فالرخصة موجودة والله تعالى يتولى السرائر والله تعالى أعلم علة الفطر في السفر يعني هي مرتبطة بالمشاق هي المشقاة من السفر\n",
      "--------------------------------------------------\n",
      "\n",
      "🎯 First Result with Timestamp:\n",
      "Link: https://www.youtube.com/watch?v=pSrHxXY44AI&t=499s\n"
     ]
    }
   ],
   "source": [
    "# search document with match word\n",
    "query={\n",
    "    \"match\":{\n",
    "        \"text\":\"صلاة السفر\"\n",
    "    }\n",
    "}\n",
    "\n",
    "# Execute search and get results\n",
    "response = es.search(index='transcription', query=query, size=10)\n",
    "\n",
    "# Print results\n",
    "for i, hit in enumerate(response['hits']['hits']):\n",
    "    video_link = hit['_source']['video_link']\n",
    "    start_time = hit['_source']['start']\n",
    "    \n",
    "    # Create YouTube link with timestamp\n",
    "    if 'youtube.com/watch?v=' in video_link or 'youtu.be/' in video_link:\n",
    "        # Extract video ID\n",
    "        if 'youtube.com/watch?v=' in video_link:\n",
    "            video_id = video_link.split('v=')[1].split('&')[0]\n",
    "        else:  # youtu.be format\n",
    "            video_id = video_link.split('youtu.be/')[-1].split('?')[0]\n",
    "        \n",
    "        # Create timestamped YouTube link\n",
    "        youtube_link_with_time = f\"https://www.youtube.com/watch?v={video_id}&t={int(start_time)}s\"\n",
    "    else:\n",
    "        youtube_link_with_time = f\"{video_link}&t={int(start_time)}s\"\n",
    "    \n",
    "    print(f\"Result {i+1}:\")\n",
    "    print(f\"Video: {video_link}\")\n",
    "    print(f\"YouTube Link with Time: {youtube_link_with_time}\")\n",
    "    print(f\"Time: {hit['_source']['start']} - {hit['_source']['end']}\")\n",
    "    print(f\"Text: {hit['_source']['text']}\")\n",
    "    print(\"-\" * 50)\n",
    "\n",
    "# If you want just the first result with timestamp:\n",
    "if response['hits']['hits']:\n",
    "    first_hit = response['hits']['hits'][0]\n",
    "    video_link = first_hit['_source']['video_link']\n",
    "    start_time = int(first_hit['_source']['start'])\n",
    "    \n",
    "    # Extract video ID and create timestamped link\n",
    "    if 'youtube.com/watch?v=' in video_link:\n",
    "        video_id = video_link.split('v=')[1].split('&')[0]\n",
    "    elif 'youtu.be/' in video_link:\n",
    "        video_id = video_link.split('youtu.be/')[-1].split('?')[0]\n",
    "    else:\n",
    "        video_id = video_link  # Assume it's already a video ID\n",
    "    \n",
    "    timestamped_link = f\"https://www.youtube.com/watch?v={video_id}&t={start_time}s\"\n",
    "    \n",
    "    print(f\"\\n🎯 First Result with Timestamp:\")\n",
    "    print(f\"Link: {timestamped_link}\")"
   ]
  }
 ],
 "metadata": {
  "kernelspec": {
   "display_name": "elastic",
   "language": "python",
   "name": "python3"
  },
  "language_info": {
   "codemirror_mode": {
    "name": "ipython",
    "version": 3
   },
   "file_extension": ".py",
   "mimetype": "text/x-python",
   "name": "python",
   "nbconvert_exporter": "python",
   "pygments_lexer": "ipython3",
   "version": "3.11.13"
  }
 },
 "nbformat": 4,
 "nbformat_minor": 5
}
